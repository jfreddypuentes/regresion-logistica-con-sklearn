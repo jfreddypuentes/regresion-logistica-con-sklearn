{
  "nbformat": 4,
  "nbformat_minor": 0,
  "metadata": {
    "colab": {
      "name": "regresion-logistica-con-sklearn.ipynb",
      "provenance": []
    },
    "kernelspec": {
      "name": "python3",
      "display_name": "Python 3"
    }
  },
  "cells": [
    {
      "cell_type": "markdown",
      "metadata": {
        "id": "D3xE0zxvOb0h",
        "colab_type": "text"
      },
      "source": [
        "<h1>Entrenar modelo de Regresión Logistica con scikit-learn</h1>"
      ]
    },
    {
      "cell_type": "code",
      "metadata": {
        "id": "VgDyEzZKLyo9",
        "colab_type": "code",
        "colab": {}
      },
      "source": [
        "from sklearn import datasets\n",
        "from sklearn.preprocessing import StandardScaler \n",
        "from sklearn.model_selection import train_test_split\n",
        "from sklearn.linear_model import LogisticRegression\n",
        "from matplotlib.colors import ListedColormap\n",
        "import matplotlib.pyplot as plt\n",
        "import numpy as np"
      ],
      "execution_count": 12,
      "outputs": []
    },
    {
      "cell_type": "markdown",
      "metadata": {
        "id": "JqHim9E9Oo4T",
        "colab_type": "text"
      },
      "source": [
        "**Cargue de datos**"
      ]
    },
    {
      "cell_type": "code",
      "metadata": {
        "id": "gyQ-GYfcMgDE",
        "colab_type": "code",
        "colab": {}
      },
      "source": [
        "iris = datasets.load_iris()\n",
        "X = iris.data[:, [2, 3]]\n",
        "y = iris.target"
      ],
      "execution_count": 5,
      "outputs": []
    },
    {
      "cell_type": "markdown",
      "metadata": {
        "id": "-s7kWIEuOsKv",
        "colab_type": "text"
      },
      "source": [
        "**División de datos 70% entrenamiento, 30% evaluación**"
      ]
    },
    {
      "cell_type": "code",
      "metadata": {
        "id": "syzdFRWNMk-9",
        "colab_type": "code",
        "colab": {}
      },
      "source": [
        "X_train, X_test, y_train, y_test = train_test_split(X, y, test_size=0.3, random_state=1, stratify=y)"
      ],
      "execution_count": 8,
      "outputs": []
    },
    {
      "cell_type": "markdown",
      "metadata": {
        "id": "9ict6vCcO2Nu",
        "colab_type": "text"
      },
      "source": [
        "**Normalización de datos**"
      ]
    },
    {
      "cell_type": "code",
      "metadata": {
        "id": "Y0MmNq6hMvEH",
        "colab_type": "code",
        "colab": {}
      },
      "source": [
        "sc = StandardScaler()\n",
        "sc.fit(X_train)\n",
        "X_train_std = sc.transform(X_train)\n",
        "X_test_std = sc.transform(X_test)\n",
        "\n",
        "X_combined_std = np.vstack((X_train_std, X_test_std))\n",
        "y_combined = np.hstack((y_train, y_test))"
      ],
      "execution_count": 23,
      "outputs": []
    },
    {
      "cell_type": "markdown",
      "metadata": {
        "id": "wzWvOpeeO58G",
        "colab_type": "text"
      },
      "source": [
        "**Graficado de regiones de desisión**"
      ]
    },
    {
      "cell_type": "code",
      "metadata": {
        "id": "VSc0xtCsM3sK",
        "colab_type": "code",
        "colab": {}
      },
      "source": [
        "def plot_decision_regions(X, y, classifier, test_idx=None, resolution=0.02):\n",
        "\n",
        "    # Generador de marcadores y colores.\n",
        "    markers = ('s', 'x', 'o', '^', 'v')\n",
        "    colors = ('red', 'blue', 'lightgreen', 'gray', 'cyan')\n",
        "    cmap = ListedColormap(colors[:len(np.unique(y))])\n",
        "\n",
        "    # superficie\n",
        "    x1_min, x1_max = X[:, 0].min() - 1, X[:, 0].max() + 1\n",
        "    x2_min, x2_max = X[:, 1].min() - 1, X[:, 1].max() + 1\n",
        "    xx1, xx2 = np.meshgrid(np.arange(x1_min, x1_max, resolution),\n",
        "                           np.arange(x2_min, x2_max, resolution))\n",
        "    Z = classifier.predict(np.array([xx1.ravel(), xx2.ravel()]).T)\n",
        "    Z = Z.reshape(xx1.shape)\n",
        "    plt.contourf(xx1, xx2, Z, alpha=0.3, cmap=cmap)\n",
        "    plt.xlim(xx1.min(), xx1.max())\n",
        "    plt.ylim(xx2.min(), xx2.max())\n",
        "\n",
        "    for idx, cl in enumerate(np.unique(y)):\n",
        "        plt.scatter(x=X[y == cl, 0], \n",
        "                    y=X[y == cl, 1],\n",
        "                    alpha=0.8, \n",
        "                    c=colors[idx],\n",
        "                    marker=markers[idx], \n",
        "                    label=cl, \n",
        "                    edgecolor='black')\n",
        "\n",
        "    if test_idx:\n",
        "        X_test, y_test = X[test_idx, :], y[test_idx]\n",
        "\n",
        "        plt.scatter(X_test[:, 0],\n",
        "                    X_test[:, 1],\n",
        "                    c='',\n",
        "                    edgecolor='black',\n",
        "                    alpha=1.0,\n",
        "                    linewidth=1,\n",
        "                    marker='o',\n",
        "                    s=100, \n",
        "                    label='Pruebas')"
      ],
      "execution_count": 29,
      "outputs": []
    },
    {
      "cell_type": "markdown",
      "metadata": {
        "id": "XeDbqKzxPDwm",
        "colab_type": "text"
      },
      "source": [
        "**Creación y entrenamiento del modelo** "
      ]
    },
    {
      "cell_type": "code",
      "metadata": {
        "id": "TCAwqtdMNBGx",
        "colab_type": "code",
        "colab": {
          "base_uri": "https://localhost:8080/",
          "height": 104
        },
        "outputId": "3b8b7d00-06f4-4c2f-b2be-2a1fb0a3dffe"
      },
      "source": [
        "modelo = LogisticRegression(C=100.0, random_state=1)\n",
        "modelo.fit(X_train_std, y_train)"
      ],
      "execution_count": 25,
      "outputs": [
        {
          "output_type": "execute_result",
          "data": {
            "text/plain": [
              "LogisticRegression(C=100.0, class_weight=None, dual=False, fit_intercept=True,\n",
              "                   intercept_scaling=1, l1_ratio=None, max_iter=100,\n",
              "                   multi_class='auto', n_jobs=None, penalty='l2',\n",
              "                   random_state=1, solver='lbfgs', tol=0.0001, verbose=0,\n",
              "                   warm_start=False)"
            ]
          },
          "metadata": {
            "tags": []
          },
          "execution_count": 25
        }
      ]
    },
    {
      "cell_type": "markdown",
      "metadata": {
        "id": "-JojCjtWPJgQ",
        "colab_type": "text"
      },
      "source": [
        "**Pintar regiones de desición**"
      ]
    },
    {
      "cell_type": "code",
      "metadata": {
        "id": "DBsn68ioNHrM",
        "colab_type": "code",
        "colab": {
          "base_uri": "https://localhost:8080/",
          "height": 314
        },
        "outputId": "83b64c39-9318-40c6-885b-0f8d6801f648"
      },
      "source": [
        "plot_decision_regions(X_combined_std, y_combined, classifier=lr, test_idx=range(105, 150))\n",
        "plt.xlabel('Longitud Petalo [normalizado]')\n",
        "plt.ylabel('Ancho petalo [normalizado]')\n",
        "plt.legend(loc='upper left')\n",
        "plt.tight_layout()\n",
        "plt.show()"
      ],
      "execution_count": 30,
      "outputs": [
        {
          "output_type": "stream",
          "text": [
            "/usr/local/lib/python3.6/dist-packages/ipykernel_launcher.py:39: MatplotlibDeprecationWarning: Using a string of single character colors as a color sequence is deprecated. Use an explicit list instead.\n"
          ],
          "name": "stderr"
        },
        {
          "output_type": "display_data",
          "data": {
            "image/png": "[encoded data removed]",
            "text/plain": [
              "<Figure size 432x288 with 1 Axes>"
            ]
          },
          "metadata": {
            "tags": [],
            "needs_background": "light"
          }
        }
      ]
    },
    {
      "cell_type": "markdown",
      "metadata": {
        "id": "7PTq-OukP0o4",
        "colab_type": "text"
      },
      "source": [
        "\n",
        "\n",
        "---\n",
        "\n"
      ]
    },
    {
      "cell_type": "markdown",
      "metadata": {
        "id": "Es-GEJbxP2rJ",
        "colab_type": "text"
      },
      "source": [
        "**¿Cómo puedo consultar los valores de las probabilidades?**"
      ]
    },
    {
      "cell_type": "markdown",
      "metadata": {
        "id": "mxQA58GJQc-a",
        "colab_type": "text"
      },
      "source": [
        "Se observa que la tercera columna de la primera fila tiene la probabilidad mas alta. Significa que pertenece a la clase 3 (Iris-Virginica)<br>\n",
        "La segunda y tercera fila pertenecen a la primera clase de flor."
      ]
    },
    {
      "cell_type": "code",
      "metadata": {
        "id": "wls-z9WLP_qa",
        "colab_type": "code",
        "colab": {
          "base_uri": "https://localhost:8080/",
          "height": 69
        },
        "outputId": "215bef3a-0935-4f4a-a587-d1d06d3dd1fa"
      },
      "source": [
        "modelo.predict_proba(X_test_std[:3, :])"
      ],
      "execution_count": 31,
      "outputs": [
        {
          "output_type": "execute_result",
          "data": {
            "text/plain": [
              "array([[1.52213484e-12, 3.85303417e-04, 9.99614697e-01],\n",
              "       [9.93560717e-01, 6.43928295e-03, 1.14112016e-15],\n",
              "       [9.98655228e-01, 1.34477208e-03, 1.76178271e-17]])"
            ]
          },
          "metadata": {
            "tags": []
          },
          "execution_count": 31
        }
      ]
    },
    {
      "cell_type": "markdown",
      "metadata": {
        "id": "J-GzO7N1RPX-",
        "colab_type": "text"
      },
      "source": [
        "**¿Cómo puedo predecir la etiqueta de clase de una única muestra?**<br>\n",
        "Con el reshape se convierte la fila en una matriz de datos bidimensional."
      ]
    },
    {
      "cell_type": "code",
      "metadata": {
        "id": "6MzOKHmAQ90V",
        "colab_type": "code",
        "colab": {
          "base_uri": "https://localhost:8080/",
          "height": 34
        },
        "outputId": "8271ef16-6853-4231-c09a-42556b90c635"
      },
      "source": [
        "modelo.predict(X_test_std[0, :].reshape(1, -1))"
      ],
      "execution_count": 35,
      "outputs": [
        {
          "output_type": "execute_result",
          "data": {
            "text/plain": [
              "array([2])"
            ]
          },
          "metadata": {
            "tags": []
          },
          "execution_count": 35
        }
      ]
    },
    {
      "cell_type": "markdown",
      "metadata": {
        "id": "FRmK-HwzUZZZ",
        "colab_type": "text"
      },
      "source": [
        "**¿Cómo se eligió el parametro de regularización C en la regresión?**<br>\n",
        "El parametro **C** se conoce como parametro de regularización inverso. Aumentarlo o disminuirlo afecta la fuerza de regularización del modelo.<br>La regularizacióón es encontrar una buena compensación entre el <strong>sesgo</strong> y la <strong>varianza</strong>. Ya que:<br>\n",
        "* Si el **sesgo es elevado** entonces, el modelo resulta con **subajuste**. \n",
        "* Si la **varianza es elevada** entonces, el modelo resultado con **sobreajuste**.<br><br>\n",
        "\n",
        "El **sesgo** mide lo lejos que se encuentra el valor estimado respecto al real de la población completa.<br>\n",
        "La **varianza** es la diferencia entre las muestras. Así cada vez que se realiza un nuevo muestreo se observa que los resultados suelen ser diferentes.",
        "<br>\n **OJO** Al reducir el valor de C aumenta el sesgo y disminuye la varianza. Al aumentar C disminuye el sesgo y aumenta la varianza."
      ]
    },
    {
      "cell_type": "code",
      "metadata": {
        "id": "rY_Sa1g2T4lB",
        "colab_type": "code",
        "colab": {
          "base_uri": "https://localhost:8080/",
          "height": 283
        },
        "outputId": "bd1e8391-6f00-44c4-dbaf-91da733be8cd"
      },
      "source": [
        "weights, params = [], []\n",
        "for c in np.arange(-5, 5):\n",
        "    lr = LogisticRegression(C=10.**c, random_state=1)\n",
        "    lr.fit(X_train_std, y_train)\n",
        "    weights.append(lr.coef_[1])\n",
        "    params.append(10.**c)\n",
        "\n",
        "weights = np.array(weights)\n",
        "plt.plot(params, weights[:, 0],\n",
        "         label='Longitud del Petalo')\n",
        "plt.plot(params, weights[:, 1], linestyle='--',\n",
        "         label='Ancho del petalo')\n",
        "plt.ylabel('Coeficiente de peso')\n",
        "plt.xlabel('C')\n",
        "plt.legend(loc='upper left')\n",
        "plt.xscale('log')\n",
        "plt.show()"
      ],
      "execution_count": 39,
      "outputs": [
        {
          "output_type": "display_data",
          "data": {
            "image/png": "[encoded data removed]",
            "text/plain": [
              "<Figure size 432x288 with 1 Axes>"
            ]
          },
          "metadata": {
            "tags": [],
            "needs_background": "light"
          }
        }
      ]
    },
    {
      "cell_type": "code",
      "metadata": {
        "id": "G06ee_CCT4W3",
        "colab_type": "code",
        "colab": {}
      },
      "source": [
        ""
      ],
      "execution_count": null,
      "outputs": []
    }
  ]
}
